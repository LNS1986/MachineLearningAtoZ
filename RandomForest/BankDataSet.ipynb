{
 "cells": [
  {
   "cell_type": "code",
   "execution_count": 2,
   "metadata": {},
   "outputs": [
    {
     "name": "stdout",
     "output_type": "stream",
     "text": [
      "   age  duration  campaign  pdays  previous  emp.var.rate  cons.price.idx  \\\n",
      "0   39       156         5    999         0           1.4          94.465   \n",
      "1   25       103         1    999         0           1.4          93.918   \n",
      "2   50       121         2    999         0           1.1          93.994   \n",
      "3   45       187         1    999         0           1.4          93.444   \n",
      "4   46       124         4    999         0          -1.8          93.075   \n",
      "\n",
      "   cons.conf.idx  euribor3m  nr.employed    ...     job  marital  education  \\\n",
      "0          -41.8      4.865       5228.1    ...       4        1          1   \n",
      "1          -42.7      4.963       5228.1    ...       0        2          3   \n",
      "2          -36.4      4.859       5191.0    ...       9        1          5   \n",
      "3          -36.1      4.965       5228.1    ...       1        1          0   \n",
      "4          -47.1      1.405       5099.1    ...       7        1          3   \n",
      "\n",
      "   default  housing  loan  contact  month  day_of_week  poutcome  \n",
      "0        1        0     0        1      4            1         1  \n",
      "1        0        2     0        0      3            2         1  \n",
      "2        0        0     0        1      6            0         1  \n",
      "3        1        2     2        0      1            1         1  \n",
      "4        0        0     0        0      0            1         1  \n",
      "\n",
      "[5 rows x 22 columns]\n",
      "   age  duration  campaign  pdays  previous  emp.var.rate  cons.price.idx  \\\n",
      "0   29       202         1    999         0           1.4          93.444   \n",
      "1   38       333         1    999         0           1.4          94.465   \n",
      "2   35       262         3    999         0          -1.8          92.893   \n",
      "3   25       109         1    999         0           1.4          94.465   \n",
      "4   44       296         1    999         0          -1.8          92.893   \n",
      "\n",
      "   cons.conf.idx  euribor3m  nr.employed    ...     job  marital  education  \\\n",
      "0          -36.1      4.964       5228.1    ...       9        2          5   \n",
      "1          -41.8      4.958       5228.1    ...       1        1          2   \n",
      "2          -46.2      1.299       5099.1    ...       9        1          6   \n",
      "3          -41.8      4.967       5228.1    ...       0        1          6   \n",
      "4          -46.2      1.291       5099.1    ...       4        1          2   \n",
      "\n",
      "   default  housing  loan  contact  month  day_of_week  poutcome  \n",
      "0        0        2     2        0      1            0         1  \n",
      "1        0        0     0        1      4            4         1  \n",
      "2        0        2     0        0      6            1         1  \n",
      "3        0        2     0        1      4            0         1  \n",
      "4        0        0     0        0      6            3         1  \n",
      "\n",
      "[5 rows x 21 columns]\n"
     ]
    },
    {
     "name": "stderr",
     "output_type": "stream",
     "text": [
      "C:\\Users\\HumanMachine\\Anaconda3\\lib\\site-packages\\sklearn\\ensemble\\forest.py:245: FutureWarning: The default value of n_estimators will change from 10 in version 0.20 to 100 in 0.22.\n",
      "  \"10 in version 0.20 to 100 in 0.22.\", FutureWarning)\n"
     ]
    }
   ],
   "source": [
    "import numpy as np\n",
    "import pandas as pd\n",
    "import matplotlib.pyplot as plt\n",
    "from sklearn import metrics, preprocessing\n",
    "from sklearn.ensemble import RandomForestClassifier\n",
    "\n",
    "# read training data\n",
    "bank_train = pd.read_csv(\"bank_train.csv\")\n",
    "\n",
    "# read test data\n",
    "bank_test = pd.read_csv(\"bank_test.csv\")\n",
    "\n",
    "print(bank_train.head())\n",
    "print(bank_test.head())\n",
    "\n",
    "############################\n",
    "### WRITE YOUR CODE HERE ###\n",
    "############################\n",
    "\n",
    "# Build the model \n",
    "# Create a random forest object rf (use default hyperparameters)\n",
    "rf = RandomForestClassifier()\n",
    "\n",
    "# Train the model\n",
    "\n",
    "# Create x_train: Drop the columns 'purchased' (target) and 'id'\n",
    "# print(bank_train.columns)\n",
    "x_train = bank_train.drop(['purchased','id'], axis=1)\n",
    "\n",
    "# Create y_train\n",
    "y_train = bank_train['purchased']\n",
    "\n",
    "# Fit the model\n",
    "rf.fit(x_train, y_train)\n",
    "\n",
    "#  Make predictions using test data\n",
    "# print(bank_test.head())\n",
    "\n",
    "# remember to drop 'id' from the test dataset \n",
    "predictions = rf.predict(bank_test.drop(['id'], axis=1))\n",
    "# print(predictions[:5])\n",
    "\n",
    "# Write the columns 'id' and 'predictions' into the output file\n",
    "d = pd.DataFrame({'id': bank_test['id'], 'bank_predicted': predictions})\n",
    "\n",
    "# Write the output\n",
    "d.to_csv('bank_predictions.csv', sep=\",\")"
   ]
  },
  {
   "cell_type": "code",
   "execution_count": null,
   "metadata": {},
   "outputs": [],
   "source": []
  }
 ],
 "metadata": {
  "kernelspec": {
   "display_name": "Python 3",
   "language": "python",
   "name": "python3"
  },
  "language_info": {
   "codemirror_mode": {
    "name": "ipython",
    "version": 3
   },
   "file_extension": ".py",
   "mimetype": "text/x-python",
   "name": "python",
   "nbconvert_exporter": "python",
   "pygments_lexer": "ipython3",
   "version": "3.7.4"
  }
 },
 "nbformat": 4,
 "nbformat_minor": 2
}
